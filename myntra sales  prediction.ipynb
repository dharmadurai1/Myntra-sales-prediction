{
 "cells": [
  {
   "cell_type": "markdown",
   "id": "50097a64-93fb-4f81-b89d-fff5ebf86f9f",
   "metadata": {},
   "source": [
    "# Load Dataset"
   ]
  },
  {
   "cell_type": "code",
   "execution_count": 34,
   "id": "8a616561-3fba-4284-8945-bbd5a575bfae",
   "metadata": {},
   "outputs": [
    {
     "data": {
      "text/html": [
       "<div>\n",
       "<style scoped>\n",
       "    .dataframe tbody tr th:only-of-type {\n",
       "        vertical-align: middle;\n",
       "    }\n",
       "\n",
       "    .dataframe tbody tr th {\n",
       "        vertical-align: top;\n",
       "    }\n",
       "\n",
       "    .dataframe thead th {\n",
       "        text-align: right;\n",
       "    }\n",
       "</style>\n",
       "<table border=\"1\" class=\"dataframe\">\n",
       "  <thead>\n",
       "    <tr style=\"text-align: right;\">\n",
       "      <th></th>\n",
       "      <th>brand_name</th>\n",
       "      <th>pants_description</th>\n",
       "      <th>price</th>\n",
       "      <th>MRP</th>\n",
       "      <th>discount_percent</th>\n",
       "      <th>ratings</th>\n",
       "      <th>number_of_ratings</th>\n",
       "    </tr>\n",
       "  </thead>\n",
       "  <tbody>\n",
       "    <tr>\n",
       "      <th>0</th>\n",
       "      <td>WROGN</td>\n",
       "      <td>Men Loose Fit Cotton Jeans</td>\n",
       "      <td>1374.0</td>\n",
       "      <td>2499.0</td>\n",
       "      <td>0.45</td>\n",
       "      <td>4.2</td>\n",
       "      <td>57.0</td>\n",
       "    </tr>\n",
       "    <tr>\n",
       "      <th>1</th>\n",
       "      <td>Flying Machine</td>\n",
       "      <td>Men Slim Fit Jeans</td>\n",
       "      <td>1829.0</td>\n",
       "      <td>2999.0</td>\n",
       "      <td>0.39</td>\n",
       "      <td>4.6</td>\n",
       "      <td>5.0</td>\n",
       "    </tr>\n",
       "    <tr>\n",
       "      <th>2</th>\n",
       "      <td>Roadster</td>\n",
       "      <td>Men Pure Cotton Jeans</td>\n",
       "      <td>974.0</td>\n",
       "      <td>2499.0</td>\n",
       "      <td>0.61</td>\n",
       "      <td>3.6</td>\n",
       "      <td>1100.0</td>\n",
       "    </tr>\n",
       "    <tr>\n",
       "      <th>3</th>\n",
       "      <td>Bene Kleed</td>\n",
       "      <td>Relaxed Fit Denim Jeans</td>\n",
       "      <td>873.0</td>\n",
       "      <td>2299.0</td>\n",
       "      <td>0.62</td>\n",
       "      <td>4.0</td>\n",
       "      <td>4800.0</td>\n",
       "    </tr>\n",
       "    <tr>\n",
       "      <th>4</th>\n",
       "      <td>Levis</td>\n",
       "      <td>Men 511 Slim Fit Jeans</td>\n",
       "      <td>1478.0</td>\n",
       "      <td>2899.0</td>\n",
       "      <td>0.49</td>\n",
       "      <td>4.3</td>\n",
       "      <td>264.0</td>\n",
       "    </tr>\n",
       "    <tr>\n",
       "      <th>...</th>\n",
       "      <td>...</td>\n",
       "      <td>...</td>\n",
       "      <td>...</td>\n",
       "      <td>...</td>\n",
       "      <td>...</td>\n",
       "      <td>...</td>\n",
       "      <td>...</td>\n",
       "    </tr>\n",
       "    <tr>\n",
       "      <th>52115</th>\n",
       "      <td>Pepe Jeans</td>\n",
       "      <td>Men Slim Fit Jeans</td>\n",
       "      <td>759.0</td>\n",
       "      <td>1899.0</td>\n",
       "      <td>0.60</td>\n",
       "      <td>4.0</td>\n",
       "      <td>63.0</td>\n",
       "    </tr>\n",
       "    <tr>\n",
       "      <th>52116</th>\n",
       "      <td>HERE&amp;NOW</td>\n",
       "      <td>Men Slim Fit Jeans</td>\n",
       "      <td>759.0</td>\n",
       "      <td>1899.0</td>\n",
       "      <td>0.60</td>\n",
       "      <td>4.0</td>\n",
       "      <td>63.0</td>\n",
       "    </tr>\n",
       "    <tr>\n",
       "      <th>52117</th>\n",
       "      <td>Pepe Jeans</td>\n",
       "      <td>Men Slim Fit Jeans</td>\n",
       "      <td>759.0</td>\n",
       "      <td>1899.0</td>\n",
       "      <td>0.60</td>\n",
       "      <td>4.0</td>\n",
       "      <td>63.0</td>\n",
       "    </tr>\n",
       "    <tr>\n",
       "      <th>52118</th>\n",
       "      <td>Celio</td>\n",
       "      <td>Men Straight Fit Jeans</td>\n",
       "      <td>759.0</td>\n",
       "      <td>1899.0</td>\n",
       "      <td>0.60</td>\n",
       "      <td>4.0</td>\n",
       "      <td>63.0</td>\n",
       "    </tr>\n",
       "    <tr>\n",
       "      <th>52119</th>\n",
       "      <td>Pepe Jeans</td>\n",
       "      <td>Men Slim Fit Jeans</td>\n",
       "      <td>759.0</td>\n",
       "      <td>1899.0</td>\n",
       "      <td>0.60</td>\n",
       "      <td>4.0</td>\n",
       "      <td>63.0</td>\n",
       "    </tr>\n",
       "  </tbody>\n",
       "</table>\n",
       "<p>52120 rows × 7 columns</p>\n",
       "</div>"
      ],
      "text/plain": [
       "           brand_name           pants_description   price     MRP  \\\n",
       "0               WROGN  Men Loose Fit Cotton Jeans  1374.0  2499.0   \n",
       "1      Flying Machine          Men Slim Fit Jeans  1829.0  2999.0   \n",
       "2            Roadster       Men Pure Cotton Jeans   974.0  2499.0   \n",
       "3          Bene Kleed     Relaxed Fit Denim Jeans   873.0  2299.0   \n",
       "4               Levis      Men 511 Slim Fit Jeans  1478.0  2899.0   \n",
       "...               ...                         ...     ...     ...   \n",
       "52115      Pepe Jeans          Men Slim Fit Jeans   759.0  1899.0   \n",
       "52116        HERE&NOW          Men Slim Fit Jeans   759.0  1899.0   \n",
       "52117      Pepe Jeans          Men Slim Fit Jeans   759.0  1899.0   \n",
       "52118           Celio      Men Straight Fit Jeans   759.0  1899.0   \n",
       "52119      Pepe Jeans          Men Slim Fit Jeans   759.0  1899.0   \n",
       "\n",
       "       discount_percent  ratings  number_of_ratings  \n",
       "0                  0.45      4.2               57.0  \n",
       "1                  0.39      4.6                5.0  \n",
       "2                  0.61      3.6             1100.0  \n",
       "3                  0.62      4.0             4800.0  \n",
       "4                  0.49      4.3              264.0  \n",
       "...                 ...      ...                ...  \n",
       "52115              0.60      4.0               63.0  \n",
       "52116              0.60      4.0               63.0  \n",
       "52117              0.60      4.0               63.0  \n",
       "52118              0.60      4.0               63.0  \n",
       "52119              0.60      4.0               63.0  \n",
       "\n",
       "[52120 rows x 7 columns]"
      ]
     },
     "execution_count": 34,
     "metadata": {},
     "output_type": "execute_result"
    }
   ],
   "source": [
    "import pandas as pd\n",
    "import numpy as np\n",
    "df=pd.read_csv(\"myntra_dataset_ByScraping (1).csv\")\n",
    "df"
   ]
  },
  {
   "cell_type": "code",
   "execution_count": 35,
   "id": "1e29ae34-0068-401a-a64c-c884ac6dd76a",
   "metadata": {},
   "outputs": [
    {
     "name": "stdout",
     "output_type": "stream",
     "text": [
      "Dataset shapes\n",
      "rows = 52120\n",
      "features = 7\n"
     ]
    }
   ],
   "source": [
    "# data shape\n",
    "print(\"Dataset shapes\")\n",
    "print(\"rows =\",df.shape[0])\n",
    "print(\"features =\",df.shape[1])"
   ]
  },
  {
   "cell_type": "code",
   "execution_count": 36,
   "id": "c0c5b716-8a0e-489e-840e-7e690c0128dd",
   "metadata": {},
   "outputs": [
    {
     "name": "stdout",
     "output_type": "stream",
     "text": [
      "Dataset information\n",
      "<class 'pandas.core.frame.DataFrame'>\n",
      "RangeIndex: 52120 entries, 0 to 52119\n",
      "Data columns (total 7 columns):\n",
      " #   Column             Non-Null Count  Dtype  \n",
      "---  ------             --------------  -----  \n",
      " 0   brand_name         52120 non-null  object \n",
      " 1   pants_description  52120 non-null  object \n",
      " 2   price              52120 non-null  float64\n",
      " 3   MRP                52120 non-null  float64\n",
      " 4   discount_percent   52120 non-null  float64\n",
      " 5   ratings            52120 non-null  float64\n",
      " 6   number_of_ratings  52120 non-null  float64\n",
      "dtypes: float64(5), object(2)\n",
      "memory usage: 2.8+ MB\n",
      "None\n"
     ]
    }
   ],
   "source": [
    "# data information \n",
    "print(\"Dataset information\")\n",
    "print(df.info())"
   ]
  },
  {
   "cell_type": "code",
   "execution_count": 37,
   "id": "3649865f-1a6c-4331-9be1-38eb4d5d5efc",
   "metadata": {},
   "outputs": [
    {
     "name": "stdout",
     "output_type": "stream",
     "text": [
      " dataset types\n"
     ]
    },
    {
     "data": {
      "text/plain": [
       "brand_name            object\n",
       "pants_description     object\n",
       "price                float64\n",
       "MRP                  float64\n",
       "discount_percent     float64\n",
       "ratings              float64\n",
       "number_of_ratings    float64\n",
       "dtype: object"
      ]
     },
     "execution_count": 37,
     "metadata": {},
     "output_type": "execute_result"
    }
   ],
   "source": [
    "# data types \n",
    "print(\" dataset types\")\n",
    "df.dtypes"
   ]
  },
  {
   "cell_type": "code",
   "execution_count": 38,
   "id": "e382649e-375a-4c15-b66e-c18898a7b5fb",
   "metadata": {},
   "outputs": [
    {
     "name": "stdout",
     "output_type": "stream",
     "text": [
      "data features\n"
     ]
    },
    {
     "data": {
      "text/plain": [
       "Index(['brand_name', 'pants_description', 'price', 'MRP', 'discount_percent',\n",
       "       'ratings', 'number_of_ratings'],\n",
       "      dtype='object')"
      ]
     },
     "execution_count": 38,
     "metadata": {},
     "output_type": "execute_result"
    }
   ],
   "source": [
    "# dataset features\n",
    "print(\"data features\")\n",
    "df.columns"
   ]
  },
  {
   "cell_type": "markdown",
   "id": "6aefcf6c-7ac1-4225-b779-313c75ad74cb",
   "metadata": {},
   "source": [
    "# Data Cleaning"
   ]
  },
  {
   "cell_type": "code",
   "execution_count": 39,
   "id": "de28a436-4aa4-4189-9223-8a585f3ceb22",
   "metadata": {},
   "outputs": [
    {
     "name": "stdout",
     "output_type": "stream",
     "text": [
      " Dataset has no missing value\n"
     ]
    }
   ],
   "source": [
    "# check missing value \n",
    "miss_val=df.isnull().sum()\n",
    "if miss_val.any() == 0:\n",
    "    print(\" Dataset has no missing value\")\n",
    "else:\n",
    "    print(miss_val[miss_val >0])"
   ]
  },
  {
   "cell_type": "code",
   "execution_count": 40,
   "id": "78a457a1-d705-4926-92ef-7df23433da38",
   "metadata": {},
   "outputs": [
    {
     "name": "stdout",
     "output_type": "stream",
     "text": [
      "[17047]\n"
     ]
    }
   ],
   "source": [
    "# check duplicated values in data\n",
    "duplicate=df.duplicated().sum()\n",
    "if duplicate.any() == 0:\n",
    "    print(\"dataset has no duplicated values\")\n",
    "else:\n",
    "    print(duplicate[duplicate>0])"
   ]
  },
  {
   "cell_type": "code",
   "execution_count": 41,
   "id": "a9f24bfb-7539-4f71-943c-19f359a866e7",
   "metadata": {},
   "outputs": [
    {
     "name": "stdout",
     "output_type": "stream",
     "text": [
      "Duplicate values droped\n"
     ]
    }
   ],
   "source": [
    "# remove duplicate value \n",
    "df.drop_duplicates(inplace=True)\n",
    "print(\"Duplicate values droped\")"
   ]
  },
  {
   "cell_type": "code",
   "execution_count": 42,
   "id": "c9a0bbd2-3e92-4fdf-8a9f-e5d0d39122ab",
   "metadata": {},
   "outputs": [
    {
     "data": {
      "text/plain": [
       "0"
      ]
     },
     "execution_count": 42,
     "metadata": {},
     "output_type": "execute_result"
    }
   ],
   "source": [
    "# let's check again duplicated value\n",
    "df.duplicated().sum()"
   ]
  },
  {
   "cell_type": "markdown",
   "id": "e2f7c871-c879-470b-ac61-b9acc3d12c0c",
   "metadata": {},
   "source": [
    "# feature quality"
   ]
  },
  {
   "cell_type": "code",
   "execution_count": 43,
   "id": "60f3eb3e-4a75-4751-a548-7caa2d02c79e",
   "metadata": {},
   "outputs": [
    {
     "name": "stdout",
     "output_type": "stream",
     "text": [
      "brand_name:['WROGN' 'Flying Machine' 'Roadster' 'Bene Kleed' 'Levis' 'HERE&NOW'\n",
      " 'Urbano Fashion' 'styzon' 'Calvin Klein Jeans' 'HIGHLANDER' 'Kotty'\n",
      " 'Mast & Harbour' 'Mufti' 'FUGAZEE' 'The Indian Garage Co'\n",
      " 'French Connection' 'glitchez' 'Thomas Scott' 'V-Mart' 'Nautica'\n",
      " 'MASTERLY WEFT' 'Sztori' 'TURMS' 'Red Tape' 'Stylecast X Kotty' 'MAAHIT'\n",
      " 'FUDE PRIDE' 'StyleCast x Revolte' 'Style Quotient' 'Being Human'\n",
      " 'Peter England Casuals' 'bigbanana' 'PARIS HAMILTON' 'Dennis Lingo'\n",
      " 'RIG BONE' 'ASHTOM' 'FOUL CHILD' 'max' 'SPYKAR' 'DENIMLOOK' 'Snitch'\n",
      " 'MASCLN SASSAFRAS' 'Kook N Keech' 'Playfeel' 'Ducati' 'me Queen'\n",
      " 'Campus Sutra' 'STUDIO NEXX' 'Powerlook' 'Cantabil' 'Aeropostale'\n",
      " 'SF JEANS by Pantaloons' 'FCUK' 'Hardsoda by The Indian Garage Co'\n",
      " 'Kolor Fusion' 'W.T.F - Witnessing True Fashion' 'Moda Rapido' 'Bewakoof'\n",
      " 'High Star' 'Beyoung' 'MERCHANT MARINE' 'EDITLOOK' 'HARDSODA' 'ANGERHOOD'\n",
      " 'Urbano Plus' 'Instafab Plus' 'Harvard' 'BEAT LONDON by PEPE JEANS'\n",
      " 'ZAYSH' 'THIRD QUADRANT' 'StyleCast' 'CINOCCI' 'MIRAAN' 'Styli'\n",
      " 'U.S. Polo Assn. Denim Co.' 'MARVEL STREET' 'Hubberholme' 'LIMEROAD'\n",
      " 'Xee' 'Fame Forever by Lifestyle' 'Espanshe' 'ether' 'Duke' 'Basics'\n",
      " 'PLUS 91' 'The Dance Bible' 'RAGZO' 'SHOWOFF' 'Jb Just BLACK'\n",
      " 'R.Code by The Roadster Life Co.' 'People' 'FREAKINS' 'Allen Cooper'\n",
      " 'TCI' 'RusticBlooms' 'PRONK' 'R&B' 'HJ HASASI' 'Berkshire' 'Turtle'\n",
      " 'Integriti' 'Voi Jeans' 'AFLASH' 'LOCOMOTIVE' 'BEVDAAS' 'DENNISON' 'Lee'\n",
      " 'AD By Arvind' 'Celio' 'Turning Blue' 'Parx' 'VESTIDO MODAS'\n",
      " 'STEPLE DENIMS' 'Forca by Lifestyle' 'THE BEETEL HOUSE' 'PAUL STREET'\n",
      " 'fineblu' 'Red Chief' 'Crimsoune Club' 'WAIMEA' 'CLUBROCKS' 'RJ Denim'\n",
      " 'DAKWINS' 'KAPTHE' 'Passion' 'Hence' 'Moudlin' 'Veltick' 'MYLANA' 'MEGHZ'\n",
      " 'M&H Our Water' 'Banana Club' 'COLOR HUNT' 'London Hills' 'INVICTUS'\n",
      " 'Monterrey SF' 'FUBAR' 'Forca' 'CS LIFE' 'Klub Fox' 'Indian Terrain'\n",
      " 'BuaGi Collection' 'INDIROCKS' 'ComfyStyle' 'CAMLA' 'Bossini'\n",
      " 'SIMON CARTER LONDON' 'HangerLoop' 'VOOTER' 'GIORDANO' 'ADBUCKS' 'Maniac'\n",
      " 'ALTIVA' 'Rodamo' 'TQS' 'Koton' 'PASSPORT JEANS' 'MM-21' 'DAGERRFLY'\n",
      " 'VOGAAN' 'Belliskey' 'Routeen' 'Bushirt' 'COSMIC' 'Rend' 'Podge'\n",
      " 'AngelFab' 'YU by Pantaloons' 'ODCC' 'Markle Moro' 'Blue Buddha' 'USMC'\n",
      " 'House of Koala' 'Peregrine by Pantaloons' 'SZN'\n",
      " 'Cloak & Decker by Monte Carlo' 'Canary London' 'HAUWER' 'TIM PARIS'\n",
      " 'Greenfibre' 'MOZZO' 'VOLTEDGE' 'Numero Uno' 'BOTABOCHI' 'RIGS AND RAGS'\n",
      " 'MARK VIEW' 'Plounge' 'NUEVOSDAMAS' 'John Pride' 'BAESD' 'POMPOUS'\n",
      " 'Global Republic' 'Monte Carlo' '7OUNCE' 'Hancock' 'COMFITS'\n",
      " 'TRACKnJEANS' 'XABIRI' 'Colors and Blends' 'SOKO STREET' 'beevee' 'IVOC'\n",
      " 'British Club' 'United Colors of Benetton' 'Rigo' 'MANTICORE'\n",
      " 'VAN HEUSEN DENIM LABS' 'Club York' 'Code 61' 'Chennis' 'Globus'\n",
      " 'Pepe Jeans' 'Jack & Jones' 'Allen Solly' 'H&M' 'Marks & Spencer'\n",
      " 'Louis Philippe Jeans' 'LINARIA' 'Tommy Hilfiger' 'U.S. Polo Assn.'\n",
      " 'The Pant Project' 'AMERICAN EAGLE OUTFITTERS' 'VYNTIQ' 'MONTREZ'\n",
      " 'Andamen' 'THE BEAR HOUSE' 'The Souled Store' 'RARE RABBIT' 'Blackberrys'\n",
      " 'GAP' 'MANGO MAN' 'NEXT' 'True Religion' 'GANT' 'Mr Bowerbird' 'ZUSH'\n",
      " 'Wrangler' 'Octave' 'COBB' 'Nike' 'MaverIQ' 'Calvin Klein'\n",
      " 'Antony Morato' 'FABRIPPLE' 'SELECTED' 'SHOWOFFFF' 'VUDU' 'GUESS'\n",
      " 'The Collection' 'AWACK' 'Metronaut' 'UNSTD' 'Oxemberg' 'Dais'\n",
      " 'Off Duty India' 'Iconic' 'ADIDAS Originals' 'FTX' 'EVERBLUE'\n",
      " 'Peter England' 'JIMMY & JORDAN' 'Woodland' 'Trendyol' 'DILLINGER'\n",
      " 'Arrow Sport' 'Raymond' 'Allen Solly Sport' 'catch' 'Minus One'\n",
      " 'Crocodile' 'Royal Enfield' 'JADE BLUE' 'THREE DAYS' 'Arrow New York'\n",
      " 'LINDBERGH' 'YOUTHIX' 'Kailash art and creation' 'KPOP'\n",
      " 'Freeform by High Star' 'nostrum' 'Eszett' 'Ben Martin' 'Breakbounce'\n",
      " 'FOREVER 21' 'REGY' 'LOUIS STITCH' 'SIX5SIX' 'Richlook' 'Xmex'\n",
      " 'Tramarossa' 'Jacob Cohen' 'Versace Jeans Couture' 'VALKYRE'\n",
      " 'the Misnomer' 'HUEMN' 'HOP HEAD' '7 For All Mankind' 'Just Cavalli'\n",
      " 'Reid & Taylor' 'Petrol' 'LEG UP' 'FiftyEight' 'GAUDDLY' 'Urban Monkey'\n",
      " 'Van Heusen' 'Lawman pg3' 'CAVALLO by Linen Club' 'boohooMAN' 'Santonio'\n",
      " 'ColorPlus' 'Bluejam' 'BAWSE.' 'LC Waikiki' 'Park Avenue' \"L'monte\"\n",
      " 'ARISTOBRAT' 'FIBONACCI' 'BLUEBIRD' 'PENTHOUSES 4446' 'IZOD' 'CANOE'\n",
      " 'BUNCH OF BAD' 'DRAGAON' 'MMXXII' 'Votico' 'YASA CREATION'\n",
      " 'Ishika Creation' 'Veny' 'Double Two' 'MAD-O-WHAT' 'Classic Polo'\n",
      " 'DRAGON HILL' 'Tailoraedge' 'BOYCOTT' 'Underrated Club' 'BOMBAY TROOPER'\n",
      " 'Star4Well' 'Grit and Flair' 'AMSWAN' 'Big Hello - The Plus Life'\n",
      " 'ROCKING SWAMY' 'KIABI' 'URA STREET' 'TRAVIS MATHEW' 'UNSIZED'\n",
      " 'Melvin Jones' 'Matinique' 'Burton' 'RUG WOODS' 'ALCOTT' 'Status Quo'\n",
      " 'JUMP USA' 'ARTLESS' 'KULTPRIT' 'TNG' 'prochain' 'FLYING SHARK'\n",
      " 'Pupil London' 'LOVEGEN' 'UNITED DENIM' 'KETCH' 'Van Heusen ACADEMY'\n",
      " 'Llak Jeans' 'SINGLE' 'Toomes' 'GUTI' 'Polo Ralph Lauren' 'mode de base'\n",
      " 'Sizeupp' 'Karl Lagerfeld' 'DeFacto' 'Difference of Opinion'\n",
      " 'BUZZIC FASHION UNLIMITED' 'Toodle Plus' 'Happy2r' 'Bewakoof Plus' 'AVVA'\n",
      " 'ALTINYILDIZ CLASSICS AC Co.' 'INKD' 'Albion By CnM'\n",
      " 'Beverly Hills Polo Club' 'Bruun & Stengade'\n",
      " 'Peter England Better Jeans Company' 'MR BUTTON' 'Nature Casuals'\n",
      " 'John Players' 'RDSTR' 'Chapter 2' 'HACKETT LONDON' 'ARBIA FUNKI' 'Colt'\n",
      " 'ANTHEM' 'American Archer' 'SACHIVA FASHION' 'VEIRDO' 'Cherokee' 'Splash'\n",
      " 'Slub' 'Sparky' 'KINGDOM OF WHITE' 'KZ07 By Kazo' 'Ashtag' 'BIG HELLO'\n",
      " 'TBS- THE BARGAIN STREET' 'HUE & HIDE' 'BREXX' 'NoBiY' 'FORCE IX' 'SEMIR'\n",
      " 'BRAVE SOUL' 'FirstKrush' 'ZALORA BASICS' 'IMPACKT' 'Killer' 'ESPRIT'\n",
      " 'RUF & TUF' 'Ed Hardy']\n",
      "\n",
      "417\n",
      "\n",
      "pants_description:['Men Loose Fit Cotton Jeans' 'Men Slim Fit Jeans' 'Men Pure Cotton Jeans'\n",
      " ... 'Men MATT Slim Fit Jeans' 'Men Boone Holborne Fit Jeans'\n",
      " 'Men Norvil Vapour Slim Jeans']\n",
      "\n",
      "2680\n",
      "\n"
     ]
    }
   ],
   "source": [
    "for col in df.columns:\n",
    "    if df[col].dtype == \"object\":\n",
    "        print(f\"{col}:{df[col].unique()}\\n\")\n",
    "        print(f\"{len(df[col].unique())}\\n\")"
   ]
  },
  {
   "cell_type": "code",
   "execution_count": 44,
   "id": "d563a33f-41d2-49b2-bd56-5f7952b0a306",
   "metadata": {},
   "outputs": [
    {
     "data": {
      "text/plain": [
       "Index(['price', 'MRP', 'discount_percent', 'ratings', 'number_of_ratings'], dtype='object')"
      ]
     },
     "execution_count": 44,
     "metadata": {},
     "output_type": "execute_result"
    }
   ],
   "source": [
    "num_cols=df.select_dtypes(include=\"number\").columns\n",
    "num_cols"
   ]
  },
  {
   "cell_type": "code",
   "execution_count": 45,
   "id": "c44616f8-457e-43eb-a9fd-56b95b09106e",
   "metadata": {},
   "outputs": [
    {
     "name": "stdout",
     "output_type": "stream",
     "text": [
      "float values convert integer value\n"
     ]
    }
   ],
   "source": [
    "# float value convet into integer value \n",
    "df[num_cols]=df[num_cols].astype(int)\n",
    "print(\"float values convert integer value\")"
   ]
  },
  {
   "cell_type": "code",
   "execution_count": 46,
   "id": "7ff4ef92-beeb-41cf-b88e-e786620ebe79",
   "metadata": {},
   "outputs": [
    {
     "data": {
      "text/html": [
       "<div>\n",
       "<style scoped>\n",
       "    .dataframe tbody tr th:only-of-type {\n",
       "        vertical-align: middle;\n",
       "    }\n",
       "\n",
       "    .dataframe tbody tr th {\n",
       "        vertical-align: top;\n",
       "    }\n",
       "\n",
       "    .dataframe thead th {\n",
       "        text-align: right;\n",
       "    }\n",
       "</style>\n",
       "<table border=\"1\" class=\"dataframe\">\n",
       "  <thead>\n",
       "    <tr style=\"text-align: right;\">\n",
       "      <th></th>\n",
       "      <th>brand_name</th>\n",
       "      <th>pants_description</th>\n",
       "      <th>price</th>\n",
       "      <th>MRP</th>\n",
       "      <th>discount_percent</th>\n",
       "      <th>ratings</th>\n",
       "      <th>number_of_ratings</th>\n",
       "    </tr>\n",
       "  </thead>\n",
       "  <tbody>\n",
       "    <tr>\n",
       "      <th>52010</th>\n",
       "      <td>United Colors of Benetton</td>\n",
       "      <td>Men Slim Fit Mid-Rise Jeans</td>\n",
       "      <td>949</td>\n",
       "      <td>3049</td>\n",
       "      <td>21</td>\n",
       "      <td>3</td>\n",
       "      <td>6</td>\n",
       "    </tr>\n",
       "    <tr>\n",
       "      <th>52013</th>\n",
       "      <td>HERE&amp;NOW</td>\n",
       "      <td>Men Slim Fit Jeans</td>\n",
       "      <td>759</td>\n",
       "      <td>1899</td>\n",
       "      <td>0</td>\n",
       "      <td>4</td>\n",
       "      <td>63</td>\n",
       "    </tr>\n",
       "    <tr>\n",
       "      <th>52014</th>\n",
       "      <td>Pepe Jeans</td>\n",
       "      <td>Men Vapour Slim Fit Jeans</td>\n",
       "      <td>759</td>\n",
       "      <td>1899</td>\n",
       "      <td>0</td>\n",
       "      <td>4</td>\n",
       "      <td>63</td>\n",
       "    </tr>\n",
       "    <tr>\n",
       "      <th>52015</th>\n",
       "      <td>Pepe Jeans</td>\n",
       "      <td>Men Slim Fit Jeans</td>\n",
       "      <td>759</td>\n",
       "      <td>1899</td>\n",
       "      <td>0</td>\n",
       "      <td>4</td>\n",
       "      <td>63</td>\n",
       "    </tr>\n",
       "    <tr>\n",
       "      <th>52018</th>\n",
       "      <td>Celio</td>\n",
       "      <td>Men Straight Fit Jeans</td>\n",
       "      <td>759</td>\n",
       "      <td>1899</td>\n",
       "      <td>0</td>\n",
       "      <td>4</td>\n",
       "      <td>63</td>\n",
       "    </tr>\n",
       "  </tbody>\n",
       "</table>\n",
       "</div>"
      ],
      "text/plain": [
       "                      brand_name            pants_description  price   MRP  \\\n",
       "52010  United Colors of Benetton  Men Slim Fit Mid-Rise Jeans    949  3049   \n",
       "52013                   HERE&NOW           Men Slim Fit Jeans    759  1899   \n",
       "52014                 Pepe Jeans    Men Vapour Slim Fit Jeans    759  1899   \n",
       "52015                 Pepe Jeans           Men Slim Fit Jeans    759  1899   \n",
       "52018                      Celio       Men Straight Fit Jeans    759  1899   \n",
       "\n",
       "       discount_percent  ratings  number_of_ratings  \n",
       "52010                21        3                  6  \n",
       "52013                 0        4                 63  \n",
       "52014                 0        4                 63  \n",
       "52015                 0        4                 63  \n",
       "52018                 0        4                 63  "
      ]
     },
     "execution_count": 46,
     "metadata": {},
     "output_type": "execute_result"
    }
   ],
   "source": [
    "# check few data\n",
    "df.tail()"
   ]
  },
  {
   "cell_type": "markdown",
   "id": "7231a3c9-2180-4098-9d33-577c7da0b4c2",
   "metadata": {},
   "source": [
    "# Data analysis"
   ]
  },
  {
   "cell_type": "code",
   "execution_count": 47,
   "id": "f10e8a29-3e13-457b-bd96-aa5f43f6e0f3",
   "metadata": {},
   "outputs": [
    {
     "name": "stdout",
     "output_type": "stream",
     "text": [
      "most expensive thing \n",
      "\n",
      "brand_name                           Jacob Cohen\n",
      "pants_description    Men Slim Fit Mid-Rise Jeans\n",
      "price                                      54000\n",
      "MRP                                        72000\n",
      "discount_percent                               0\n",
      "ratings                                        4\n",
      "number_of_ratings                             25\n",
      "Name: 51228, dtype: object\n"
     ]
    }
   ],
   "source": [
    "# most price selling price \n",
    "most_price=df.loc[df[\"price\"].idxmax()]\n",
    "print(f\"most expensive thing \\n\\n{most_price}\")"
   ]
  },
  {
   "cell_type": "code",
   "execution_count": 48,
   "id": "4dfb7bfd-6170-459f-b31d-9a2bb73c46aa",
   "metadata": {},
   "outputs": [
    {
     "name": "stdout",
     "output_type": "stream",
     "text": [
      "lowst expensive thing \n",
      "\n",
      " brand_name                         COMFITS\n",
      "pants_description    Men Regular Fit Jeans\n",
      "price                                  337\n",
      "MRP                                   1299\n",
      "discount_percent                         0\n",
      "ratings                                  3\n",
      "number_of_ratings                       16\n",
      "Name: 21697, dtype: object\n"
     ]
    }
   ],
   "source": [
    "# lowest price selling price \n",
    "least_price=df.loc[df[\"price\"].idxmin()]\n",
    "print(f\"lowst expensive thing \\n\\n {least_price}\")"
   ]
  },
  {
   "cell_type": "code",
   "execution_count": 49,
   "id": "a86f045b-1f07-485c-bbe5-b89741d150d2",
   "metadata": {},
   "outputs": [
    {
     "name": "stdout",
     "output_type": "stream",
     "text": [
      " most bought items\n"
     ]
    },
    {
     "data": {
      "text/html": [
       "<div>\n",
       "<style scoped>\n",
       "    .dataframe tbody tr th:only-of-type {\n",
       "        vertical-align: middle;\n",
       "    }\n",
       "\n",
       "    .dataframe tbody tr th {\n",
       "        vertical-align: top;\n",
       "    }\n",
       "\n",
       "    .dataframe thead th {\n",
       "        text-align: right;\n",
       "    }\n",
       "</style>\n",
       "<table border=\"1\" class=\"dataframe\">\n",
       "  <thead>\n",
       "    <tr style=\"text-align: right;\">\n",
       "      <th></th>\n",
       "      <th>brand_name</th>\n",
       "      <th>pants_description</th>\n",
       "      <th>price</th>\n",
       "      <th>MRP</th>\n",
       "      <th>discount_percent</th>\n",
       "      <th>ratings</th>\n",
       "      <th>number_of_ratings</th>\n",
       "    </tr>\n",
       "  </thead>\n",
       "  <tbody>\n",
       "    <tr>\n",
       "      <th>39519</th>\n",
       "      <td>Roadster</td>\n",
       "      <td>Men Slim Fit Jeans</td>\n",
       "      <td>579</td>\n",
       "      <td>1999</td>\n",
       "      <td>0</td>\n",
       "      <td>3</td>\n",
       "      <td>30700</td>\n",
       "    </tr>\n",
       "    <tr>\n",
       "      <th>39520</th>\n",
       "      <td>United Colors of Benetton</td>\n",
       "      <td>Men Mid-Rise Regular Fit Jeans</td>\n",
       "      <td>579</td>\n",
       "      <td>1999</td>\n",
       "      <td>0</td>\n",
       "      <td>3</td>\n",
       "      <td>30700</td>\n",
       "    </tr>\n",
       "    <tr>\n",
       "      <th>28991</th>\n",
       "      <td>Roadster</td>\n",
       "      <td>Men Skinny Fit Jeans</td>\n",
       "      <td>479</td>\n",
       "      <td>1499</td>\n",
       "      <td>0</td>\n",
       "      <td>3</td>\n",
       "      <td>22600</td>\n",
       "    </tr>\n",
       "    <tr>\n",
       "      <th>36</th>\n",
       "      <td>Urbano Fashion</td>\n",
       "      <td>Men Slim Fit Jeans</td>\n",
       "      <td>629</td>\n",
       "      <td>1399</td>\n",
       "      <td>0</td>\n",
       "      <td>4</td>\n",
       "      <td>22300</td>\n",
       "    </tr>\n",
       "    <tr>\n",
       "      <th>28887</th>\n",
       "      <td>Roadster</td>\n",
       "      <td>Men Skinny Fit Jeans</td>\n",
       "      <td>874</td>\n",
       "      <td>2499</td>\n",
       "      <td>0</td>\n",
       "      <td>3</td>\n",
       "      <td>19600</td>\n",
       "    </tr>\n",
       "  </tbody>\n",
       "</table>\n",
       "</div>"
      ],
      "text/plain": [
       "                      brand_name               pants_description  price   MRP  \\\n",
       "39519                   Roadster              Men Slim Fit Jeans    579  1999   \n",
       "39520  United Colors of Benetton  Men Mid-Rise Regular Fit Jeans    579  1999   \n",
       "28991                   Roadster            Men Skinny Fit Jeans    479  1499   \n",
       "36                Urbano Fashion              Men Slim Fit Jeans    629  1399   \n",
       "28887                   Roadster            Men Skinny Fit Jeans    874  2499   \n",
       "\n",
       "       discount_percent  ratings  number_of_ratings  \n",
       "39519                 0        3              30700  \n",
       "39520                 0        3              30700  \n",
       "28991                 0        3              22600  \n",
       "36                    0        4              22300  \n",
       "28887                 0        3              19600  "
      ]
     },
     "execution_count": 49,
     "metadata": {},
     "output_type": "execute_result"
    }
   ],
   "source": [
    "# most bought item\n",
    "most_bought=df.sort_values(by=\"number_of_ratings\" ,ascending=False).head(5)\n",
    "print(\" most bought items\")\n",
    "most_bought"
   ]
  },
  {
   "cell_type": "code",
   "execution_count": 50,
   "id": "d2004174-0d2d-4442-96df-ad7b7a3bcb5a",
   "metadata": {},
   "outputs": [
    {
     "name": "stdout",
     "output_type": "stream",
     "text": [
      "least bought items\n"
     ]
    },
    {
     "data": {
      "text/html": [
       "<div>\n",
       "<style scoped>\n",
       "    .dataframe tbody tr th:only-of-type {\n",
       "        vertical-align: middle;\n",
       "    }\n",
       "\n",
       "    .dataframe tbody tr th {\n",
       "        vertical-align: top;\n",
       "    }\n",
       "\n",
       "    .dataframe thead th {\n",
       "        text-align: right;\n",
       "    }\n",
       "</style>\n",
       "<table border=\"1\" class=\"dataframe\">\n",
       "  <thead>\n",
       "    <tr style=\"text-align: right;\">\n",
       "      <th></th>\n",
       "      <th>brand_name</th>\n",
       "      <th>pants_description</th>\n",
       "      <th>price</th>\n",
       "      <th>MRP</th>\n",
       "      <th>discount_percent</th>\n",
       "      <th>ratings</th>\n",
       "      <th>number_of_ratings</th>\n",
       "    </tr>\n",
       "  </thead>\n",
       "  <tbody>\n",
       "    <tr>\n",
       "      <th>25656</th>\n",
       "      <td>AMERICAN EAGLE OUTFITTERS</td>\n",
       "      <td>Men Straight Fit Jeans</td>\n",
       "      <td>5039</td>\n",
       "      <td>5999</td>\n",
       "      <td>0</td>\n",
       "      <td>4</td>\n",
       "      <td>5</td>\n",
       "    </tr>\n",
       "    <tr>\n",
       "      <th>16854</th>\n",
       "      <td>United Colors of Benetton</td>\n",
       "      <td>Men Relaxed Fit Mid-Rise Jeans</td>\n",
       "      <td>2249</td>\n",
       "      <td>2999</td>\n",
       "      <td>0</td>\n",
       "      <td>4</td>\n",
       "      <td>5</td>\n",
       "    </tr>\n",
       "    <tr>\n",
       "      <th>16853</th>\n",
       "      <td>Snitch</td>\n",
       "      <td>Relaxed Fit Mid-Rise Jeans</td>\n",
       "      <td>2249</td>\n",
       "      <td>2999</td>\n",
       "      <td>0</td>\n",
       "      <td>4</td>\n",
       "      <td>5</td>\n",
       "    </tr>\n",
       "    <tr>\n",
       "      <th>16852</th>\n",
       "      <td>AMERICAN EAGLE OUTFITTERS</td>\n",
       "      <td>Men Mid-Rise Slim Fit Jeans</td>\n",
       "      <td>2249</td>\n",
       "      <td>2999</td>\n",
       "      <td>0</td>\n",
       "      <td>4</td>\n",
       "      <td>5</td>\n",
       "    </tr>\n",
       "    <tr>\n",
       "      <th>16836</th>\n",
       "      <td>LINARIA</td>\n",
       "      <td>Men Slim Fit Light Fade Jeans</td>\n",
       "      <td>420</td>\n",
       "      <td>1299</td>\n",
       "      <td>8</td>\n",
       "      <td>2</td>\n",
       "      <td>5</td>\n",
       "    </tr>\n",
       "  </tbody>\n",
       "</table>\n",
       "</div>"
      ],
      "text/plain": [
       "                      brand_name               pants_description  price   MRP  \\\n",
       "25656  AMERICAN EAGLE OUTFITTERS          Men Straight Fit Jeans   5039  5999   \n",
       "16854  United Colors of Benetton  Men Relaxed Fit Mid-Rise Jeans   2249  2999   \n",
       "16853                     Snitch      Relaxed Fit Mid-Rise Jeans   2249  2999   \n",
       "16852  AMERICAN EAGLE OUTFITTERS     Men Mid-Rise Slim Fit Jeans   2249  2999   \n",
       "16836                    LINARIA   Men Slim Fit Light Fade Jeans    420  1299   \n",
       "\n",
       "       discount_percent  ratings  number_of_ratings  \n",
       "25656                 0        4                  5  \n",
       "16854                 0        4                  5  \n",
       "16853                 0        4                  5  \n",
       "16852                 0        4                  5  \n",
       "16836                 8        2                  5  "
      ]
     },
     "execution_count": 50,
     "metadata": {},
     "output_type": "execute_result"
    }
   ],
   "source": [
    "# least bought item\n",
    "least_bought=df.sort_values(by=\"number_of_ratings\",ascending=True).head(5)\n",
    "print(\"least bought items\")\n",
    "least_bought"
   ]
  },
  {
   "cell_type": "code",
   "execution_count": 53,
   "id": "f328e5fd-1f9d-4333-aa93-1c23efc3c3f4",
   "metadata": {},
   "outputs": [
    {
     "name": "stdout",
     "output_type": "stream",
     "text": [
      "top 10 brands\n"
     ]
    },
    {
     "data": {
      "text/plain": [
       "brand_name\n",
       "Roadster                     531598\n",
       "United Colors of Benetton    366608\n",
       "HIGHLANDER                   325024\n",
       "Flying Machine               275393\n",
       "WROGN                        148323\n",
       "Levis                        105740\n",
       "The Indian Garage Co          94793\n",
       "HERE&NOW                      80890\n",
       "Urbano Fashion                80448\n",
       "Mast & Harbour                78404\n",
       "Name: number_of_ratings, dtype: int32"
      ]
     },
     "execution_count": 53,
     "metadata": {},
     "output_type": "execute_result"
    }
   ],
   "source": [
    "# top brands\n",
    "top_brands=df.groupby(\"brand_name\")[\"number_of_ratings\"].sum().sort_values(ascending=False).head(10)\n",
    "print(\"top 10 brands\")\n",
    "top_brands"
   ]
  },
  {
   "cell_type": "code",
   "execution_count": 55,
   "id": "28498d02-c951-4f98-9bf1-bab2b434ec5e",
   "metadata": {},
   "outputs": [
    {
     "name": "stdout",
     "output_type": "stream",
     "text": [
      "top least brands\n"
     ]
    },
    {
     "data": {
      "text/plain": [
       "brand_name\n",
       "Cloak & Decker by Monte Carlo    5\n",
       "RUF & TUF                        5\n",
       "Happy2r                          5\n",
       "UNITED DENIM                     5\n",
       "Pupil London                     5\n",
       "Just Cavalli                     5\n",
       "INKD                             5\n",
       "Colors and Blends                5\n",
       "BAWSE.                           6\n",
       "Nike                             6\n",
       "Name: number_of_ratings, dtype: int32"
      ]
     },
     "execution_count": 55,
     "metadata": {},
     "output_type": "execute_result"
    }
   ],
   "source": [
    "# least brand \n",
    "least_brand=df.groupby(\"brand_name\")[\"number_of_ratings\"].sum().sort_values(ascending=True).head(10)\n",
    "print(\"top least brands\")\n",
    "least_brand"
   ]
  },
  {
   "cell_type": "code",
   "execution_count": 56,
   "id": "a0ba7674-3204-4c32-bf81-bb53bbd401b5",
   "metadata": {},
   "outputs": [
    {
     "name": "stdout",
     "output_type": "stream",
     "text": [
      "most_bought_price\n"
     ]
    },
    {
     "data": {
      "text/html": [
       "<div>\n",
       "<style scoped>\n",
       "    .dataframe tbody tr th:only-of-type {\n",
       "        vertical-align: middle;\n",
       "    }\n",
       "\n",
       "    .dataframe tbody tr th {\n",
       "        vertical-align: top;\n",
       "    }\n",
       "\n",
       "    .dataframe thead th {\n",
       "        text-align: right;\n",
       "    }\n",
       "</style>\n",
       "<table border=\"1\" class=\"dataframe\">\n",
       "  <thead>\n",
       "    <tr style=\"text-align: right;\">\n",
       "      <th></th>\n",
       "      <th>pants_description</th>\n",
       "      <th>price</th>\n",
       "    </tr>\n",
       "  </thead>\n",
       "  <tbody>\n",
       "    <tr>\n",
       "      <th>39519</th>\n",
       "      <td>Men Slim Fit Jeans</td>\n",
       "      <td>579</td>\n",
       "    </tr>\n",
       "    <tr>\n",
       "      <th>39520</th>\n",
       "      <td>Men Mid-Rise Regular Fit Jeans</td>\n",
       "      <td>579</td>\n",
       "    </tr>\n",
       "    <tr>\n",
       "      <th>28991</th>\n",
       "      <td>Men Skinny Fit Jeans</td>\n",
       "      <td>479</td>\n",
       "    </tr>\n",
       "    <tr>\n",
       "      <th>36</th>\n",
       "      <td>Men Slim Fit Jeans</td>\n",
       "      <td>629</td>\n",
       "    </tr>\n",
       "    <tr>\n",
       "      <th>28887</th>\n",
       "      <td>Men Skinny Fit Jeans</td>\n",
       "      <td>874</td>\n",
       "    </tr>\n",
       "    <tr>\n",
       "      <th>11073</th>\n",
       "      <td>Men Slim Fit Jeans</td>\n",
       "      <td>584</td>\n",
       "    </tr>\n",
       "    <tr>\n",
       "      <th>28395</th>\n",
       "      <td>Men Slim Fit Jeans</td>\n",
       "      <td>623</td>\n",
       "    </tr>\n",
       "    <tr>\n",
       "      <th>3414</th>\n",
       "      <td>Men Skinny Fit Jeans</td>\n",
       "      <td>696</td>\n",
       "    </tr>\n",
       "    <tr>\n",
       "      <th>32602</th>\n",
       "      <td>Men Slim Fit Jeans</td>\n",
       "      <td>519</td>\n",
       "    </tr>\n",
       "    <tr>\n",
       "      <th>11552</th>\n",
       "      <td>Men Tapered Fit Jeans</td>\n",
       "      <td>493</td>\n",
       "    </tr>\n",
       "  </tbody>\n",
       "</table>\n",
       "</div>"
      ],
      "text/plain": [
       "                    pants_description  price\n",
       "39519              Men Slim Fit Jeans    579\n",
       "39520  Men Mid-Rise Regular Fit Jeans    579\n",
       "28991            Men Skinny Fit Jeans    479\n",
       "36                 Men Slim Fit Jeans    629\n",
       "28887            Men Skinny Fit Jeans    874\n",
       "11073              Men Slim Fit Jeans    584\n",
       "28395              Men Slim Fit Jeans    623\n",
       "3414             Men Skinny Fit Jeans    696\n",
       "32602              Men Slim Fit Jeans    519\n",
       "11552           Men Tapered Fit Jeans    493"
      ]
     },
     "execution_count": 56,
     "metadata": {},
     "output_type": "execute_result"
    }
   ],
   "source": [
    "# most bought price\n",
    "most_bought_price=df.sort_values(by=\"number_of_ratings\",ascending=False).head(10)[[\"pants_description\",\"price\"]]\n",
    "print(\"most_bought_price\")\n",
    "most_bought_price"
   ]
  },
  {
   "cell_type": "markdown",
   "id": "9a69308a-189a-4c22-a853-08761414642f",
   "metadata": {},
   "source": [
    "# Data visualization"
   ]
  },
  {
   "cell_type": "code",
   "execution_count": 61,
   "id": "5549337a-ecc9-43b8-9884-7c0ae90e694b",
   "metadata": {},
   "outputs": [
    {
     "name": "stdout",
     "output_type": "stream",
     "text": [
      "libraries imported\n"
     ]
    }
   ],
   "source": [
    "import matplotlib.pyplot as plt\n",
    "import seaborn as sns\n",
    "import warnings\n",
    "warnings.filterwarnings(\"ignore\")\n",
    "print(\"libraries imported\")"
   ]
  },
  {
   "cell_type": "code",
   "execution_count": 62,
   "id": "9b9e61eb-c864-4fed-98ca-d625c359e9ac",
   "metadata": {},
   "outputs": [],
   "source": [
    "sns.set_style(\"whitegrid\")"
   ]
  },
  {
   "cell_type": "code",
   "execution_count": 63,
   "id": "6f716bac-c2be-4596-bb97-bd53b6a2fc61",
   "metadata": {},
   "outputs": [
    {
     "data": {
      "text/html": [
       "<div>\n",
       "<style scoped>\n",
       "    .dataframe tbody tr th:only-of-type {\n",
       "        vertical-align: middle;\n",
       "    }\n",
       "\n",
       "    .dataframe tbody tr th {\n",
       "        vertical-align: top;\n",
       "    }\n",
       "\n",
       "    .dataframe thead th {\n",
       "        text-align: right;\n",
       "    }\n",
       "</style>\n",
       "<table border=\"1\" class=\"dataframe\">\n",
       "  <thead>\n",
       "    <tr style=\"text-align: right;\">\n",
       "      <th></th>\n",
       "      <th>brand_name</th>\n",
       "      <th>pants_description</th>\n",
       "      <th>price</th>\n",
       "      <th>MRP</th>\n",
       "      <th>discount_percent</th>\n",
       "      <th>ratings</th>\n",
       "      <th>number_of_ratings</th>\n",
       "    </tr>\n",
       "  </thead>\n",
       "  <tbody>\n",
       "    <tr>\n",
       "      <th>0</th>\n",
       "      <td>WROGN</td>\n",
       "      <td>Men Loose Fit Cotton Jeans</td>\n",
       "      <td>1374</td>\n",
       "      <td>2499</td>\n",
       "      <td>0</td>\n",
       "      <td>4</td>\n",
       "      <td>57</td>\n",
       "    </tr>\n",
       "    <tr>\n",
       "      <th>1</th>\n",
       "      <td>Flying Machine</td>\n",
       "      <td>Men Slim Fit Jeans</td>\n",
       "      <td>1829</td>\n",
       "      <td>2999</td>\n",
       "      <td>0</td>\n",
       "      <td>4</td>\n",
       "      <td>5</td>\n",
       "    </tr>\n",
       "    <tr>\n",
       "      <th>2</th>\n",
       "      <td>Roadster</td>\n",
       "      <td>Men Pure Cotton Jeans</td>\n",
       "      <td>974</td>\n",
       "      <td>2499</td>\n",
       "      <td>0</td>\n",
       "      <td>3</td>\n",
       "      <td>1100</td>\n",
       "    </tr>\n",
       "    <tr>\n",
       "      <th>3</th>\n",
       "      <td>Bene Kleed</td>\n",
       "      <td>Relaxed Fit Denim Jeans</td>\n",
       "      <td>873</td>\n",
       "      <td>2299</td>\n",
       "      <td>0</td>\n",
       "      <td>4</td>\n",
       "      <td>4800</td>\n",
       "    </tr>\n",
       "    <tr>\n",
       "      <th>4</th>\n",
       "      <td>Levis</td>\n",
       "      <td>Men 511 Slim Fit Jeans</td>\n",
       "      <td>1478</td>\n",
       "      <td>2899</td>\n",
       "      <td>0</td>\n",
       "      <td>4</td>\n",
       "      <td>264</td>\n",
       "    </tr>\n",
       "  </tbody>\n",
       "</table>\n",
       "</div>"
      ],
      "text/plain": [
       "       brand_name           pants_description  price   MRP  discount_percent  \\\n",
       "0           WROGN  Men Loose Fit Cotton Jeans   1374  2499                 0   \n",
       "1  Flying Machine          Men Slim Fit Jeans   1829  2999                 0   \n",
       "2        Roadster       Men Pure Cotton Jeans    974  2499                 0   \n",
       "3      Bene Kleed     Relaxed Fit Denim Jeans    873  2299                 0   \n",
       "4           Levis      Men 511 Slim Fit Jeans   1478  2899                 0   \n",
       "\n",
       "   ratings  number_of_ratings  \n",
       "0        4                 57  \n",
       "1        4                  5  \n",
       "2        3               1100  \n",
       "3        4               4800  \n",
       "4        4                264  "
      ]
     },
     "execution_count": 63,
     "metadata": {},
     "output_type": "execute_result"
    }
   ],
   "source": [
    "df.head()"
   ]
  },
  {
   "cell_type": "code",
   "execution_count": 64,
   "id": "184337b1-4d67-497a-81ee-af21cb2d1e8e",
   "metadata": {},
   "outputs": [],
   "source": [
    "df[\"price_range\"]=pd.cut(df[\"price\"],bins=[0,500,1000,1500,2000,np.inf],labels=[\"<500\",\"500-1000\",\"1000-1500\",\"1500-2000\",\"2000+\"])"
   ]
  },
  {
   "cell_type": "code",
   "execution_count": 67,
   "id": "c4f25008-5011-4f9f-86cf-24168d13b89a",
   "metadata": {},
   "outputs": [
    {
     "data": {
      "image/png": "[encoded data removed]",
      "text/plain": [
       "<Figure size 800x800 with 1 Axes>"
      ]
     },
     "metadata": {},
     "output_type": "display_data"
    }
   ],
   "source": [
    "plt.figure(figsize=(8, 8))\n",
    "top_brands.head(10).plot.pie(autopct='%1.1f%%')\n",
    "plt.title('Top 10 Brands by Number of Ratings')\n",
    "plt.show()"
   ]
  },
  {
   "cell_type": "code",
   "execution_count": 68,
   "id": "a1ae7932-9614-4e2f-9006-428d5fc98754",
   "metadata": {},
   "outputs": [
    {
     "data": {
      "text/html": [
       "<div>\n",
       "<style scoped>\n",
       "    .dataframe tbody tr th:only-of-type {\n",
       "        vertical-align: middle;\n",
       "    }\n",
       "\n",
       "    .dataframe tbody tr th {\n",
       "        vertical-align: top;\n",
       "    }\n",
       "\n",
       "    .dataframe thead th {\n",
       "        text-align: right;\n",
       "    }\n",
       "</style>\n",
       "<table border=\"1\" class=\"dataframe\">\n",
       "  <thead>\n",
       "    <tr style=\"text-align: right;\">\n",
       "      <th></th>\n",
       "      <th>brand_name</th>\n",
       "      <th>pants_description</th>\n",
       "      <th>price</th>\n",
       "      <th>MRP</th>\n",
       "      <th>discount_percent</th>\n",
       "      <th>ratings</th>\n",
       "      <th>number_of_ratings</th>\n",
       "      <th>price_range</th>\n",
       "    </tr>\n",
       "  </thead>\n",
       "  <tbody>\n",
       "    <tr>\n",
       "      <th>0</th>\n",
       "      <td>WROGN</td>\n",
       "      <td>Men Loose Fit Cotton Jeans</td>\n",
       "      <td>1374</td>\n",
       "      <td>2499</td>\n",
       "      <td>0</td>\n",
       "      <td>4</td>\n",
       "      <td>57</td>\n",
       "      <td>1000-1500</td>\n",
       "    </tr>\n",
       "    <tr>\n",
       "      <th>1</th>\n",
       "      <td>Flying Machine</td>\n",
       "      <td>Men Slim Fit Jeans</td>\n",
       "      <td>1829</td>\n",
       "      <td>2999</td>\n",
       "      <td>0</td>\n",
       "      <td>4</td>\n",
       "      <td>5</td>\n",
       "      <td>1500-2000</td>\n",
       "    </tr>\n",
       "    <tr>\n",
       "      <th>2</th>\n",
       "      <td>Roadster</td>\n",
       "      <td>Men Pure Cotton Jeans</td>\n",
       "      <td>974</td>\n",
       "      <td>2499</td>\n",
       "      <td>0</td>\n",
       "      <td>3</td>\n",
       "      <td>1100</td>\n",
       "      <td>500-1000</td>\n",
       "    </tr>\n",
       "    <tr>\n",
       "      <th>3</th>\n",
       "      <td>Bene Kleed</td>\n",
       "      <td>Relaxed Fit Denim Jeans</td>\n",
       "      <td>873</td>\n",
       "      <td>2299</td>\n",
       "      <td>0</td>\n",
       "      <td>4</td>\n",
       "      <td>4800</td>\n",
       "      <td>500-1000</td>\n",
       "    </tr>\n",
       "    <tr>\n",
       "      <th>4</th>\n",
       "      <td>Levis</td>\n",
       "      <td>Men 511 Slim Fit Jeans</td>\n",
       "      <td>1478</td>\n",
       "      <td>2899</td>\n",
       "      <td>0</td>\n",
       "      <td>4</td>\n",
       "      <td>264</td>\n",
       "      <td>1000-1500</td>\n",
       "    </tr>\n",
       "  </tbody>\n",
       "</table>\n",
       "</div>"
      ],
      "text/plain": [
       "       brand_name           pants_description  price   MRP  discount_percent  \\\n",
       "0           WROGN  Men Loose Fit Cotton Jeans   1374  2499                 0   \n",
       "1  Flying Machine          Men Slim Fit Jeans   1829  2999                 0   \n",
       "2        Roadster       Men Pure Cotton Jeans    974  2499                 0   \n",
       "3      Bene Kleed     Relaxed Fit Denim Jeans    873  2299                 0   \n",
       "4           Levis      Men 511 Slim Fit Jeans   1478  2899                 0   \n",
       "\n",
       "   ratings  number_of_ratings price_range  \n",
       "0        4                 57   1000-1500  \n",
       "1        4                  5   1500-2000  \n",
       "2        3               1100    500-1000  \n",
       "3        4               4800    500-1000  \n",
       "4        4                264   1000-1500  "
      ]
     },
     "execution_count": 68,
     "metadata": {},
     "output_type": "execute_result"
    }
   ],
   "source": [
    "df.head()"
   ]
  },
  {
   "cell_type": "code",
   "execution_count": 73,
   "id": "6bb5e6cc-8e8e-4a87-b874-0420db1abe7d",
   "metadata": {},
   "outputs": [
    {
     "data": {
      "image/png": "[encoded data removed]",
      "text/plain": [
       "<Figure size 640x480 with 1 Axes>"
      ]
     },
     "metadata": {},
     "output_type": "display_data"
    }
   ],
   "source": [
    "sns.countplot(y=\"price_range\",data=df,palette=\"Blues\")\n",
    "plt.title(\"Distibution of price\")\n",
    "plt.ylabel(\"price range\")\n",
    "plt.xlabel(\"counts\")\n",
    "plt.show()"
   ]
  },
  {
   "cell_type": "markdown",
   "id": "32f239d6-4dd3-4dcb-89c7-8401275bacf4",
   "metadata": {},
   "source": [
    "# model buliding"
   ]
  },
  {
   "cell_type": "code",
   "execution_count": 124,
   "id": "91fcebeb-4411-4981-8341-88f1b86c235a",
   "metadata": {},
   "outputs": [],
   "source": [
    "from sklearn.model_selection import train_test_split\n",
    "from sklearn.linear_model import LogisticRegression\n",
    "from sklearn.tree import DecisionTreeClassifier\n",
    "from sklearn.ensemble import RandomForestClassifier\n",
    "from sklearn.neighbors import KNeighborsClassifier\n",
    "from sklearn.svm import SVC\n",
    "from sklearn.ensemble import GradientBoostingClassifier\n",
    "from sklearn.naive_bayes import GaussianNB\n",
    "from sklearn.metrics import accuracy_score,classification_report,confusion_matrix,ConfusionMatrixDisplay\n",
    "import sklearn.linear_model as lm"
   ]
  },
  {
   "cell_type": "code",
   "execution_count": 125,
   "id": "8dac47d4-f4bf-480e-9733-1ef97fc1d0d2",
   "metadata": {},
   "outputs": [],
   "source": [
    "models={\n",
    "    \"Logistic Regression\":lm.LogisticRegression(),\n",
    "    \"Decision Tree\":DecisionTreeClassifier(),\n",
    "    \"Random Forest\":RandomForestClassifier(),\n",
    "    \"SVM\":SVC(),\n",
    "    \"KNN\":KNeighborsClassifier(),\n",
    "    \"Gradient Boosting\":GradientBoostingClassifier(),\n",
    "    \"Gaussian navie_bayes\":GaussianNB()\n",
    "}"
   ]
  },
  {
   "cell_type": "code",
   "execution_count": 126,
   "id": "7514d5d9-131f-4fbc-bc71-dfe791ba33ad",
   "metadata": {},
   "outputs": [
    {
     "data": {
      "text/html": [
       "<div>\n",
       "<style scoped>\n",
       "    .dataframe tbody tr th:only-of-type {\n",
       "        vertical-align: middle;\n",
       "    }\n",
       "\n",
       "    .dataframe tbody tr th {\n",
       "        vertical-align: top;\n",
       "    }\n",
       "\n",
       "    .dataframe thead th {\n",
       "        text-align: right;\n",
       "    }\n",
       "</style>\n",
       "<table border=\"1\" class=\"dataframe\">\n",
       "  <thead>\n",
       "    <tr style=\"text-align: right;\">\n",
       "      <th></th>\n",
       "      <th>brand_name</th>\n",
       "      <th>pants_description</th>\n",
       "      <th>price</th>\n",
       "      <th>MRP</th>\n",
       "      <th>discount_percent</th>\n",
       "      <th>ratings</th>\n",
       "      <th>number_of_ratings</th>\n",
       "      <th>price_range</th>\n",
       "      <th>Good_ratings</th>\n",
       "    </tr>\n",
       "  </thead>\n",
       "  <tbody>\n",
       "    <tr>\n",
       "      <th>0</th>\n",
       "      <td>WROGN</td>\n",
       "      <td>Men Loose Fit Cotton Jeans</td>\n",
       "      <td>1374</td>\n",
       "      <td>2499</td>\n",
       "      <td>0</td>\n",
       "      <td>4</td>\n",
       "      <td>57</td>\n",
       "      <td>1000-1500</td>\n",
       "      <td>1</td>\n",
       "    </tr>\n",
       "    <tr>\n",
       "      <th>1</th>\n",
       "      <td>Flying Machine</td>\n",
       "      <td>Men Slim Fit Jeans</td>\n",
       "      <td>1829</td>\n",
       "      <td>2999</td>\n",
       "      <td>0</td>\n",
       "      <td>4</td>\n",
       "      <td>5</td>\n",
       "      <td>1500-2000</td>\n",
       "      <td>1</td>\n",
       "    </tr>\n",
       "    <tr>\n",
       "      <th>2</th>\n",
       "      <td>Roadster</td>\n",
       "      <td>Men Pure Cotton Jeans</td>\n",
       "      <td>974</td>\n",
       "      <td>2499</td>\n",
       "      <td>0</td>\n",
       "      <td>3</td>\n",
       "      <td>1100</td>\n",
       "      <td>500-1000</td>\n",
       "      <td>1</td>\n",
       "    </tr>\n",
       "    <tr>\n",
       "      <th>3</th>\n",
       "      <td>Bene Kleed</td>\n",
       "      <td>Relaxed Fit Denim Jeans</td>\n",
       "      <td>873</td>\n",
       "      <td>2299</td>\n",
       "      <td>0</td>\n",
       "      <td>4</td>\n",
       "      <td>4800</td>\n",
       "      <td>500-1000</td>\n",
       "      <td>1</td>\n",
       "    </tr>\n",
       "    <tr>\n",
       "      <th>4</th>\n",
       "      <td>Levis</td>\n",
       "      <td>Men 511 Slim Fit Jeans</td>\n",
       "      <td>1478</td>\n",
       "      <td>2899</td>\n",
       "      <td>0</td>\n",
       "      <td>4</td>\n",
       "      <td>264</td>\n",
       "      <td>1000-1500</td>\n",
       "      <td>1</td>\n",
       "    </tr>\n",
       "  </tbody>\n",
       "</table>\n",
       "</div>"
      ],
      "text/plain": [
       "       brand_name           pants_description  price   MRP  discount_percent  \\\n",
       "0           WROGN  Men Loose Fit Cotton Jeans   1374  2499                 0   \n",
       "1  Flying Machine          Men Slim Fit Jeans   1829  2999                 0   \n",
       "2        Roadster       Men Pure Cotton Jeans    974  2499                 0   \n",
       "3      Bene Kleed     Relaxed Fit Denim Jeans    873  2299                 0   \n",
       "4           Levis      Men 511 Slim Fit Jeans   1478  2899                 0   \n",
       "\n",
       "   ratings  number_of_ratings price_range  Good_ratings  \n",
       "0        4                 57   1000-1500             1  \n",
       "1        4                  5   1500-2000             1  \n",
       "2        3               1100    500-1000             1  \n",
       "3        4               4800    500-1000             1  \n",
       "4        4                264   1000-1500             1  "
      ]
     },
     "execution_count": 126,
     "metadata": {},
     "output_type": "execute_result"
    }
   ],
   "source": [
    "df.head()"
   ]
  },
  {
   "cell_type": "code",
   "execution_count": 127,
   "id": "3e4f2c53-60d9-4fc8-b7e1-01455438f3f4",
   "metadata": {},
   "outputs": [
    {
     "data": {
      "text/plain": [
       "ratings\n",
       "4    20668\n",
       "3    13174\n",
       "2     1001\n",
       "5      123\n",
       "1      107\n",
       "Name: count, dtype: int64"
      ]
     },
     "execution_count": 127,
     "metadata": {},
     "output_type": "execute_result"
    }
   ],
   "source": [
    "df[\"ratings\"].value_counts()"
   ]
  },
  {
   "cell_type": "code",
   "execution_count": 128,
   "id": "12351107-99e2-4960-9230-0d3c6f01e322",
   "metadata": {},
   "outputs": [],
   "source": [
    "def convert_ratings (x):\n",
    "    if x >= 3:\n",
    "        return 1\n",
    "    else:\n",
    "        return 0\n",
    "        "
   ]
  },
  {
   "cell_type": "code",
   "execution_count": 129,
   "id": "2c28a123-9bbf-431c-91a9-ef614d9f8f9f",
   "metadata": {},
   "outputs": [],
   "source": [
    "df[\"Good_ratings\"]=df[\"ratings\"].map(convert_ratings)"
   ]
  },
  {
   "cell_type": "code",
   "execution_count": 130,
   "id": "7cb322dd-043b-4ed8-951e-0100e1dcd52a",
   "metadata": {},
   "outputs": [
    {
     "data": {
      "text/html": [
       "<div>\n",
       "<style scoped>\n",
       "    .dataframe tbody tr th:only-of-type {\n",
       "        vertical-align: middle;\n",
       "    }\n",
       "\n",
       "    .dataframe tbody tr th {\n",
       "        vertical-align: top;\n",
       "    }\n",
       "\n",
       "    .dataframe thead th {\n",
       "        text-align: right;\n",
       "    }\n",
       "</style>\n",
       "<table border=\"1\" class=\"dataframe\">\n",
       "  <thead>\n",
       "    <tr style=\"text-align: right;\">\n",
       "      <th></th>\n",
       "      <th>brand_name</th>\n",
       "      <th>pants_description</th>\n",
       "      <th>price</th>\n",
       "      <th>MRP</th>\n",
       "      <th>discount_percent</th>\n",
       "      <th>ratings</th>\n",
       "      <th>number_of_ratings</th>\n",
       "      <th>price_range</th>\n",
       "      <th>Good_ratings</th>\n",
       "    </tr>\n",
       "  </thead>\n",
       "  <tbody>\n",
       "    <tr>\n",
       "      <th>0</th>\n",
       "      <td>WROGN</td>\n",
       "      <td>Men Loose Fit Cotton Jeans</td>\n",
       "      <td>1374</td>\n",
       "      <td>2499</td>\n",
       "      <td>0</td>\n",
       "      <td>4</td>\n",
       "      <td>57</td>\n",
       "      <td>1000-1500</td>\n",
       "      <td>1</td>\n",
       "    </tr>\n",
       "    <tr>\n",
       "      <th>1</th>\n",
       "      <td>Flying Machine</td>\n",
       "      <td>Men Slim Fit Jeans</td>\n",
       "      <td>1829</td>\n",
       "      <td>2999</td>\n",
       "      <td>0</td>\n",
       "      <td>4</td>\n",
       "      <td>5</td>\n",
       "      <td>1500-2000</td>\n",
       "      <td>1</td>\n",
       "    </tr>\n",
       "    <tr>\n",
       "      <th>2</th>\n",
       "      <td>Roadster</td>\n",
       "      <td>Men Pure Cotton Jeans</td>\n",
       "      <td>974</td>\n",
       "      <td>2499</td>\n",
       "      <td>0</td>\n",
       "      <td>3</td>\n",
       "      <td>1100</td>\n",
       "      <td>500-1000</td>\n",
       "      <td>1</td>\n",
       "    </tr>\n",
       "    <tr>\n",
       "      <th>3</th>\n",
       "      <td>Bene Kleed</td>\n",
       "      <td>Relaxed Fit Denim Jeans</td>\n",
       "      <td>873</td>\n",
       "      <td>2299</td>\n",
       "      <td>0</td>\n",
       "      <td>4</td>\n",
       "      <td>4800</td>\n",
       "      <td>500-1000</td>\n",
       "      <td>1</td>\n",
       "    </tr>\n",
       "    <tr>\n",
       "      <th>4</th>\n",
       "      <td>Levis</td>\n",
       "      <td>Men 511 Slim Fit Jeans</td>\n",
       "      <td>1478</td>\n",
       "      <td>2899</td>\n",
       "      <td>0</td>\n",
       "      <td>4</td>\n",
       "      <td>264</td>\n",
       "      <td>1000-1500</td>\n",
       "      <td>1</td>\n",
       "    </tr>\n",
       "  </tbody>\n",
       "</table>\n",
       "</div>"
      ],
      "text/plain": [
       "       brand_name           pants_description  price   MRP  discount_percent  \\\n",
       "0           WROGN  Men Loose Fit Cotton Jeans   1374  2499                 0   \n",
       "1  Flying Machine          Men Slim Fit Jeans   1829  2999                 0   \n",
       "2        Roadster       Men Pure Cotton Jeans    974  2499                 0   \n",
       "3      Bene Kleed     Relaxed Fit Denim Jeans    873  2299                 0   \n",
       "4           Levis      Men 511 Slim Fit Jeans   1478  2899                 0   \n",
       "\n",
       "   ratings  number_of_ratings price_range  Good_ratings  \n",
       "0        4                 57   1000-1500             1  \n",
       "1        4                  5   1500-2000             1  \n",
       "2        3               1100    500-1000             1  \n",
       "3        4               4800    500-1000             1  \n",
       "4        4                264   1000-1500             1  "
      ]
     },
     "execution_count": 130,
     "metadata": {},
     "output_type": "execute_result"
    }
   ],
   "source": [
    "df.head()"
   ]
  },
  {
   "cell_type": "code",
   "execution_count": 131,
   "id": "4f79d201-a410-43d6-b8bf-8da2c3f0bf55",
   "metadata": {},
   "outputs": [],
   "source": [
    "x=df[[\"price\",\"MRP\",\"discount_percent\",\"number_of_ratings\"]]\n",
    "y=df[\"Good_ratings\"]"
   ]
  },
  {
   "cell_type": "code",
   "execution_count": 132,
   "id": "cdf9af6e-a326-42df-a543-109321daba6b",
   "metadata": {},
   "outputs": [
    {
     "name": "stdout",
     "output_type": "stream",
     "text": [
      "<class 'pandas.core.frame.DataFrame'>\n",
      "Index: 35073 entries, 0 to 52018\n",
      "Data columns (total 4 columns):\n",
      " #   Column             Non-Null Count  Dtype\n",
      "---  ------             --------------  -----\n",
      " 0   price              35073 non-null  int32\n",
      " 1   MRP                35073 non-null  int32\n",
      " 2   discount_percent   35073 non-null  int32\n",
      " 3   number_of_ratings  35073 non-null  int32\n",
      "dtypes: int32(4)\n",
      "memory usage: 1.8 MB\n"
     ]
    }
   ],
   "source": [
    "x.info()"
   ]
  },
  {
   "cell_type": "code",
   "execution_count": 133,
   "id": "e9edb984-3168-4991-a4f1-c0e15970cc9d",
   "metadata": {},
   "outputs": [],
   "source": [
    "x_train,x_test,y_train,y_test=train_test_split(x,y,test_size=0.2,random_state=42)"
   ]
  },
  {
   "cell_type": "code",
   "execution_count": 134,
   "id": "70b62d5d-d6de-4f1e-b713-9a1842461960",
   "metadata": {},
   "outputs": [
    {
     "name": "stdout",
     "output_type": "stream",
     "text": [
      "28058\n"
     ]
    }
   ],
   "source": [
    "print(len(x_train))"
   ]
  },
  {
   "cell_type": "code",
   "execution_count": 135,
   "id": "bd6874d4-17e4-4ff4-ba1b-d06e710a9c2c",
   "metadata": {},
   "outputs": [
    {
     "name": "stdout",
     "output_type": "stream",
     "text": [
      "28058\n"
     ]
    }
   ],
   "source": [
    "print(len(y_train))"
   ]
  },
  {
   "cell_type": "code",
   "execution_count": 142,
   "id": "bf749f3a-6b13-48f7-837b-19d50bf85e09",
   "metadata": {},
   "outputs": [
    {
     "name": "stdout",
     "output_type": "stream",
     "text": [
      "Model:Logistic Regression\n",
      "Accuracy_score:96.6928\n",
      "classification_report \n",
      "              precision    recall  f1-score   support\n",
      "\n",
      "           0       0.00      0.00      0.00       232\n",
      "           1       0.97      1.00      0.98      6783\n",
      "\n",
      "    accuracy                           0.97      7015\n",
      "   macro avg       0.48      0.50      0.49      7015\n",
      "weighted avg       0.93      0.97      0.95      7015\n",
      "\n"
     ]
    },
    {
     "data": {
      "image/png": "[encoded data removed]",
      "text/plain": [
       "<Figure size 600x400 with 1 Axes>"
      ]
     },
     "metadata": {},
     "output_type": "display_data"
    },
    {
     "name": "stdout",
     "output_type": "stream",
     "text": [
      "Model:Decision Tree\n",
      "Accuracy_score:95.2530\n",
      "classification_report \n",
      "              precision    recall  f1-score   support\n",
      "\n",
      "           0       0.29      0.29      0.29       232\n",
      "           1       0.98      0.98      0.98      6783\n",
      "\n",
      "    accuracy                           0.95      7015\n",
      "   macro avg       0.63      0.63      0.63      7015\n",
      "weighted avg       0.95      0.95      0.95      7015\n",
      "\n"
     ]
    },
    {
     "data": {
      "image/png": "[encoded data removed]",
      "text/plain": [
       "<Figure size 600x400 with 1 Axes>"
      ]
     },
     "metadata": {},
     "output_type": "display_data"
    },
    {
     "name": "stdout",
     "output_type": "stream",
     "text": [
      "Model:Random Forest\n",
      "Accuracy_score:96.6073\n",
      "classification_report \n",
      "              precision    recall  f1-score   support\n",
      "\n",
      "           0       0.47      0.19      0.27       232\n",
      "           1       0.97      0.99      0.98      6783\n",
      "\n",
      "    accuracy                           0.97      7015\n",
      "   macro avg       0.72      0.59      0.63      7015\n",
      "weighted avg       0.96      0.97      0.96      7015\n",
      "\n"
     ]
    },
    {
     "data": {
      "image/png": "[encoded data removed]",
      "text/plain": [
       "<Figure size 600x400 with 1 Axes>"
      ]
     },
     "metadata": {},
     "output_type": "display_data"
    },
    {
     "name": "stdout",
     "output_type": "stream",
     "text": [
      "Model:SVM\n",
      "Accuracy_score:96.6928\n",
      "classification_report \n",
      "              precision    recall  f1-score   support\n",
      "\n",
      "           0       0.00      0.00      0.00       232\n",
      "           1       0.97      1.00      0.98      6783\n",
      "\n",
      "    accuracy                           0.97      7015\n",
      "   macro avg       0.48      0.50      0.49      7015\n",
      "weighted avg       0.93      0.97      0.95      7015\n",
      "\n"
     ]
    },
    {
     "data": {
      "image/png": "[encoded data removed]",
      "text/plain": [
       "<Figure size 600x400 with 1 Axes>"
      ]
     },
     "metadata": {},
     "output_type": "display_data"
    },
    {
     "name": "stdout",
     "output_type": "stream",
     "text": [
      "Model:KNN\n",
      "Accuracy_score:96.4220\n",
      "classification_report \n",
      "              precision    recall  f1-score   support\n",
      "\n",
      "           0       0.35      0.09      0.15       232\n",
      "           1       0.97      0.99      0.98      6783\n",
      "\n",
      "    accuracy                           0.96      7015\n",
      "   macro avg       0.66      0.54      0.57      7015\n",
      "weighted avg       0.95      0.96      0.95      7015\n",
      "\n"
     ]
    },
    {
     "data": {
      "image/png": "[encoded data removed]",
      "text/plain": [
       "<Figure size 600x400 with 1 Axes>"
      ]
     },
     "metadata": {},
     "output_type": "display_data"
    },
    {
     "name": "stdout",
     "output_type": "stream",
     "text": [
      "Model:Gradient Boosting\n",
      "Accuracy_score:96.7071\n",
      "classification_report \n",
      "              precision    recall  f1-score   support\n",
      "\n",
      "           0       0.67      0.01      0.02       232\n",
      "           1       0.97      1.00      0.98      6783\n",
      "\n",
      "    accuracy                           0.97      7015\n",
      "   macro avg       0.82      0.50      0.50      7015\n",
      "weighted avg       0.96      0.97      0.95      7015\n",
      "\n"
     ]
    },
    {
     "data": {
      "image/png": "[encoded data removed]",
      "text/plain": [
       "<Figure size 600x400 with 1 Axes>"
      ]
     },
     "metadata": {},
     "output_type": "display_data"
    },
    {
     "name": "stdout",
     "output_type": "stream",
     "text": [
      "Model:Gaussian navie_bayes\n",
      "Accuracy_score:62.8510\n",
      "classification_report \n",
      "              precision    recall  f1-score   support\n",
      "\n",
      "           0       0.05      0.54      0.09       232\n",
      "           1       0.98      0.63      0.77      6783\n",
      "\n",
      "    accuracy                           0.63      7015\n",
      "   macro avg       0.51      0.59      0.43      7015\n",
      "weighted avg       0.94      0.63      0.74      7015\n",
      "\n"
     ]
    },
    {
     "data": {
      "image/png": "[encoded data removed]",
      "text/plain": [
       "<Figure size 600x400 with 1 Axes>"
      ]
     },
     "metadata": {},
     "output_type": "display_data"
    }
   ],
   "source": [
    "accuracies={}\n",
    "for name,model in models.items():\n",
    "    model.fit(x_train,y_train)\n",
    "    y_pred=model.predict(x_test)\n",
    "    acs=accuracy_score(y_test,y_pred)*100\n",
    "    cr=classification_report(y_test,y_pred)\n",
    "    cm=confusion_matrix(y_test,y_pred)\n",
    "    accuracies[name]=acs\n",
    "    print(f\"Model:{name}\")\n",
    "    print(f\"Accuracy_score:{acs:.4f}\")\n",
    "    print(f\"classification_report \\n{cr}\")\n",
    "    plt.figure(figsize=(6,4))\n",
    "    sns.heatmap(cm,annot=True,fmt=\".2f\",cbar=False,cmap=\"Blues\")\n",
    "    plt.title(f\"confusion matric-{name}\")\n",
    "    plt.show()\n"
   ]
  },
  {
   "cell_type": "code",
   "execution_count": 149,
   "id": "f3af8675-159e-41eb-b336-7b5ccbe9b71f",
   "metadata": {},
   "outputs": [
    {
     "data": {
      "image/png": "[encoded data removed]",
      "text/plain": [
       "<Figure size 1500x1500 with 1 Axes>"
      ]
     },
     "metadata": {},
     "output_type": "display_data"
    }
   ],
   "source": [
    "plt.figure(figsize=(15,15))\n",
    "sns.barplot(y=list(accuracies.keys()),x=list(accuracies.values()),palette=\"Blues\")\n",
    "plt.title(\"Model Accuracis\")\n",
    "plt.xlabel(\"Accuracy %\")\n",
    "plt.ylabel(\"Models\")\n",
    "plt.yticks(rotation=360)\n",
    "for index, value in enumerate(accuracies.values()):\n",
    "    plt.text(value + 0.5, index, f\"{value:.2f}%\", va='center')\n",
    "plt.show()"
   ]
  },
  {
   "cell_type": "code",
   "execution_count": null,
   "id": "74186d39-8e85-4c17-8b48-e3abfb27b1ca",
   "metadata": {},
   "outputs": [],
   "source": []
  },
  {
   "cell_type": "code",
   "execution_count": null,
   "id": "77279a52-7b87-4d59-8e34-59bd6b691e55",
   "metadata": {},
   "outputs": [],
   "source": []
  },
  {
   "cell_type": "code",
   "execution_count": null,
   "id": "a87863b6-d496-4f6d-905f-d7a8dab84c85",
   "metadata": {},
   "outputs": [],
   "source": []
  }
 ],
 "metadata": {
  "kernelspec": {
   "display_name": "Python [conda env:base] *",
   "language": "python",
   "name": "conda-base-py"
  },
  "language_info": {
   "codemirror_mode": {
    "name": "ipython",
    "version": 3
   },
   "file_extension": ".py",
   "mimetype": "text/x-python",
   "name": "python",
   "nbconvert_exporter": "python",
   "pygments_lexer": "ipython3",
   "version": "3.12.7"
  }
 },
 "nbformat": 4,
 "nbformat_minor": 5
}
